{
  "cells": [
    {
      "cell_type": "markdown",
      "metadata": {
        "id": "view-in-github",
        "colab_type": "text"
      },
      "source": [
        "<a href=\"https://colab.research.google.com/github/Sreecharan2027/Transformer-Based-Video-Quality-Prediction/blob/main/Transformer_Based_Video_Quality_Prediction_code.ipynb\" target=\"_parent\"><img src=\"https://colab.research.google.com/assets/colab-badge.svg\" alt=\"Open In Colab\"/></a>"
      ]
    },
    {
      "cell_type": "code",
      "source": [
        "# prompt: mount the google drive\n",
        "\n",
        "from google.colab import drive\n",
        "drive.mount('/content/drive')\n"
      ],
      "metadata": {
        "id": "M05AF0JnMpU8",
        "colab": {
          "base_uri": "https://localhost:8080/"
        },
        "outputId": "24b73abf-1c22-4f6c-ca20-5b8a343a6c93"
      },
      "id": "M05AF0JnMpU8",
      "execution_count": null,
      "outputs": [
        {
          "output_type": "stream",
          "name": "stdout",
          "text": [
            "Drive already mounted at /content/drive; to attempt to forcibly remount, call drive.mount(\"/content/drive\", force_remount=True).\n"
          ]
        }
      ]
    },
    {
      "cell_type": "code",
      "source": [
        "#!pip install opencv-python"
      ],
      "metadata": {
        "id": "YK52uk494_kx"
      },
      "id": "YK52uk494_kx",
      "execution_count": null,
      "outputs": []
    },
    {
      "cell_type": "code",
      "execution_count": null,
      "id": "219267ad",
      "metadata": {
        "id": "219267ad"
      },
      "outputs": [],
      "source": [
        "import os, cv2, time\n",
        "import numpy as np\n",
        "import pandas as pd\n",
        "from PIL import Image\n",
        "from tqdm import tqdm\n",
        "from concurrent.futures import ThreadPoolExecutor\n",
        "from multiprocessing import Pool, cpu_count\n",
        "import torch\n",
        "import os\n",
        "import cv2\n",
        "import numpy as np\n",
        "import pandas as pd\n",
        "import matplotlib.pyplot as plt\n",
        "from PIL import Image\n",
        "from tqdm import tqdm\n",
        "from sklearn.model_selection import train_test_split\n",
        "\n",
        "import torch\n",
        "import torch.nn as nn\n",
        "from torch.utils.data import Dataset, DataLoader\n",
        "from torchvision import transforms\n",
        "from transformers import TimesformerForVideoClassification"
      ]
    },
    {
      "cell_type": "code",
      "execution_count": null,
      "id": "1e42ac06",
      "metadata": {
        "id": "1e42ac06"
      },
      "outputs": [],
      "source": [
        "\"\"\"\n",
        "## 2. Configuration\n",
        "\"\"\"\n",
        "\n",
        "# %%\n",
        "class Config:\n",
        "    # Paths\n",
        "    DATA_PATH = r\"/content/drive/MyDrive/IITHPROJECT/konvid1k/videos\"\n",
        "    EXTRACTED_FRAMES_DIR = \"/content/drive/MyDrive/IITHPROJECT/extracted_frames\"\n",
        "    OUTPUT_DIR = \"output\"\n",
        "    LABELS_CSV_PATH = r\"/content/drive/MyDrive/IITHPROJECT/konvid1k/konvid1k_metadata.csv\"\n",
        "\n",
        "    # Frame extraction\n",
        "    FRAME_EXTRACTION_METHOD = \"uniform\"  # \"uniform\", \"random\", or \"all\"\n",
        "    FRAME_EXTRACTION_RATE = 5  # Extract every nth frame\n",
        "    MAX_FRAMES_TO_EXTRACT = 100  # Max frames per video\n",
        "\n",
        "    # Model\n",
        "    MODEL_NAME = \"facebook/timesformer-base-finetuned-k400\"\n",
        "    INPUT_SIZE = 224\n",
        "    NUM_FRAMES = 8  # Number of frames to use per video\n",
        "\n",
        "    # Training\n",
        "    BATCH_SIZE = 1\n",
        "    EPOCHS = 15\n",
        "    LEARNING_RATE = 1e-4\n",
        "    TEST_SIZE = 0.2\n",
        "\n",
        "    # Device\n",
        "    DEVICE = \"cuda\" if torch.cuda.is_available() else \"cpu\"\n",
        "\n",
        "# Create directories\n",
        "#os.makedirs(Config.EXTRACTED_FRAMES_DIR, exist_ok=True)\n",
        "#os.makedirs(Config.OUTPUT_DIR, exist_ok=True)"
      ]
    },
    {
      "cell_type": "code",
      "execution_count": null,
      "id": "05967917",
      "metadata": {
        "id": "05967917",
        "collapsed": true
      },
      "outputs": [],
      "source": [
        "\n",
        "def extract_frames(video_path, output_dir, method=\"uniform\", rate=5, max_frames=100):\n",
        "    os.makedirs(output_dir, exist_ok=True)\n",
        "    cap = cv2.VideoCapture(video_path)\n",
        "    total_frames = int(cap.get(cv2.CAP_PROP_FRAME_COUNT))\n",
        "    fps = cap.get(cv2.CAP_PROP_FPS)\n",
        "    duration = total_frames / fps if fps else 0\n",
        "\n",
        "    print(f\"\\n🎞️  {os.path.basename(video_path)} — {total_frames} frames | {duration:.2f}s\")\n",
        "\n",
        "    if method == \"all\":\n",
        "        frame_indices = list(range(min(total_frames, max_frames)))\n",
        "    elif method == \"uniform\":\n",
        "        step = max(1, total_frames // min(max_frames, total_frames))\n",
        "        frame_indices = list(range(0, total_frames, step))[:max_frames]\n",
        "    elif method == \"random\":\n",
        "        frame_indices = sorted(np.random.choice(total_frames, min(max_frames, total_frames), replace=False))\n",
        "    else:\n",
        "        frame_indices = []\n",
        "\n",
        "    extracted_count = 0\n",
        "    start_time = time.time()\n",
        "    executor = ThreadPoolExecutor()\n",
        "\n",
        "    current_index = 0\n",
        "    for i in tqdm(frame_indices, desc=\"Progress\", unit=\"frame\"):\n",
        "        if method == \"uniform\":\n",
        "            while current_index < i:\n",
        "                cap.read()\n",
        "                current_index += 1\n",
        "            ret, frame = cap.read()\n",
        "            current_index += 1\n",
        "        else:\n",
        "            cap.set(cv2.CAP_PROP_POS_FRAMES, i)\n",
        "            ret, frame = cap.read()\n",
        "\n",
        "        if ret:\n",
        "            frame = cv2.cvtColor(frame, cv2.COLOR_BGR2RGB)\n",
        "            frame = cv2.resize(frame, (Config.INPUT_SIZE, Config.INPUT_SIZE))\n",
        "            frame_path = os.path.join(output_dir, f\"frame_{i:06d}.jpg\")\n",
        "            executor.submit(Image.fromarray(frame).save, frame_path)\n",
        "            extracted_count += 1\n",
        "\n",
        "    cap.release()\n",
        "    executor.shutdown(wait=True)\n",
        "    elapsed = time.time() - start_time\n",
        "\n",
        "    print(f\"✅ {extracted_count} frames extracted in {elapsed:.2f}s ({extracted_count/elapsed:.2f} fps)\")\n",
        "\n",
        "    return {\n",
        "        \"video_file\": os.path.basename(video_path),\n",
        "        \"total_frames\": total_frames,\n",
        "        \"extracted_frames\": extracted_count,\n",
        "        \"time_elapsed\": elapsed,\n",
        "        \"output_dir\": output_dir\n",
        "    }\n",
        "\n",
        "\n",
        "def extract_all_videos():\n",
        "    video_files = [f for f in os.listdir(Config.DATA_PATH) if f.endswith('.mp4')]\n",
        "    total_videos = len(video_files)\n",
        "    extraction_log = []\n",
        "\n",
        "    print(f\"\\n🚀 Extracting from {total_videos} videos\")\n",
        "\n",
        "    for video_file in tqdm(video_files, desc=\"Videos\", unit=\"video\"):\n",
        "        video_path = os.path.join(Config.DATA_PATH, video_file)\n",
        "        output_dir = os.path.join(Config.EXTRACTED_FRAMES_DIR, os.path.splitext(video_file)[0])\n",
        "\n",
        "        result = extract_frames(\n",
        "            video_path, output_dir,\n",
        "            method=Config.FRAME_EXTRACTION_METHOD,\n",
        "            rate=Config.FRAME_EXTRACTION_RATE,\n",
        "            max_frames=Config.MAX_FRAMES_TO_EXTRACT\n",
        "        )\n",
        "        extraction_log.append(result)\n",
        "\n",
        "    df = pd.DataFrame(extraction_log)\n",
        "    log_path = os.path.join(Config.EXTRACTED_FRAMES_DIR, \"extraction_log.csv\")\n",
        "    df.to_csv(log_path, index=False)\n",
        "\n",
        "    print(f\"\\n📄 Log saved to: {log_path}\")\n",
        "    return df\n",
        "\n",
        "#df_log = extract_all_videos()\n",
        "#df_log.head()\n"
      ]
    },
    {
      "cell_type": "code",
      "execution_count": null,
      "id": "cee7858a",
      "metadata": {
        "id": "cee7858a",
        "outputId": "ea3a1d82-6295-4962-9b83-79be9a20d75c",
        "colab": {
          "base_uri": "https://localhost:8080/"
        }
      },
      "outputs": [
        {
          "output_type": "stream",
          "name": "stdout",
          "text": [
            "\n",
            "📊 DATA SUMMARY\n",
            "🎬 Total Videos: 1200\n",
            "🖼️  Total Frames Extracted: 120000\n",
            "📐 Image Size: 224x224 pixels\n",
            "🧾 Frame Size (Width x Height): 224 x 224\n",
            "📦 Data Dimension: (120000, 224, 224, 3)\n",
            "🎨 Image Mode: RGB\n"
          ]
        }
      ],
      "source": [
        "import os\n",
        "import pandas as pd\n",
        "from PIL import Image\n",
        "\n",
        "# Load the CSV file\n",
        "log_path = r\"/content/drive/MyDrive/IITHPROJECT/extracted_frames/extraction_log.csv\"\n",
        "df_log = pd.read_csv(log_path)\n",
        "\n",
        "# Define the summary function\n",
        "def print_data_summary(df_log):\n",
        "    total_videos = df_log.shape[0]\n",
        "    total_frames = df_log[\"extracted_frames\"].sum()\n",
        "\n",
        "    # Try to read a sample frame to get image dimensions\n",
        "    sample_folder = df_log[\"output_dir\"].iloc[0]\n",
        "    sample_frame_path = sorted(os.listdir(sample_folder))[0]\n",
        "    sample_image = Image.open(os.path.join(sample_folder, sample_frame_path))\n",
        "    width, height = sample_image.size\n",
        "    image_mode = sample_image.mode\n",
        "    channels = len(sample_image.getbands())\n",
        "\n",
        "    print(\"\\n📊 DATA SUMMARY\")\n",
        "    print(f\"🎬 Total Videos: {total_videos}\")\n",
        "    print(f\"🖼️  Total Frames Extracted: {total_frames}\")\n",
        "    print(f\"📐 Image Size: {width}x{height} pixels\")\n",
        "    print(f\"🧾 Frame Size (Width x Height): {width} x {height}\")\n",
        "    print(f\"📦 Data Dimension: ({total_frames}, {height}, {width}, {channels})\")\n",
        "    print(f\"🎨 Image Mode: {image_mode}\")\n",
        "\n",
        "# Call the function\n",
        "print_data_summary(df_log)\n"
      ]
    },
    {
      "cell_type": "code",
      "execution_count": null,
      "id": "b4f7ce03",
      "metadata": {
        "id": "b4f7ce03"
      },
      "outputs": [],
      "source": [
        "'''import os\n",
        "#EXTRACTED_FRAMES_DIR = \"data\\extracted_frames\"\n",
        "def validate_extracted_frames(video_files, extracted_frames_dir):\n",
        "    missing_dirs = []\n",
        "    empty_dirs = []\n",
        "\n",
        "    for video_file in video_files:\n",
        "        video_name = os.path.splitext(video_file)[0]\n",
        "        frame_dir = os.path.join(extracted_frames_dir, video_name)\n",
        "\n",
        "        if not os.path.exists(frame_dir):\n",
        "            missing_dirs.append(frame_dir)\n",
        "        elif len([f for f in os.listdir(frame_dir) if f.endswith('.jpg')]) == 0:\n",
        "            empty_dirs.append(frame_dir)\n",
        "\n",
        "    return missing_dirs, empty_dirs\n",
        "\n",
        "# Run this right after loading video files\n",
        "video_files = [f for f in os.listdir(Config.DATA_PATH) if f.endswith('.mp4')]\n",
        "missing, empty = validate_extracted_frames(video_files, Config.EXTRACTED_FRAMES_DIR)\n",
        "\n",
        "print(f\"Missing frame dirs: {len(missing)}\")\n",
        "for path in missing:\n",
        "    print(\"❌\", path)\n",
        "\n",
        "print(f\"Empty frame dirs: {len(empty)}\")\n",
        "for path in empty:\n",
        "    print(\"⚠️\", path)'''\n"
      ]
    },
    {
      "cell_type": "code",
      "execution_count": null,
      "id": "d4348ed5",
      "metadata": {
        "id": "d4348ed5",
        "outputId": "76ceda4b-fe5a-4dd4-cd6c-a37ef97dd305",
        "colab": {
          "base_uri": "https://localhost:8080/"
        }
      },
      "outputs": [
        {
          "output_type": "stream",
          "name": "stdout",
          "text": [
            "✅ Total videos: 1200\n",
            "🟢 Training set size: 960\n",
            "🔵 Test set size: 240\n",
            "Frames shape: torch.Size([1, 8, 3, 224, 224])\n",
            "Labels shape: torch.Size([1])\n"
          ]
        }
      ],
      "source": [
        "import pandas as pd\n",
        "from torch.utils.data import Dataset, DataLoader\n",
        "from torchvision import transforms\n",
        "from PIL import Image\n",
        "import os\n",
        "import numpy as np\n",
        "from sklearn.model_selection import train_test_split\n",
        "\n",
        "# %%\n",
        "def get_transforms():\n",
        "    \"\"\"Get image transformations\"\"\"\n",
        "    return transforms.Compose([\n",
        "        transforms.Resize((Config.INPUT_SIZE, Config.INPUT_SIZE)),\n",
        "        transforms.ToTensor(),\n",
        "        transforms.Normalize(mean=[0.485, 0.456, 0.406], std=[0.229, 0.224, 0.225])\n",
        "    ])\n",
        "\n",
        "# %%\n",
        "class VideoQualityDataset(Dataset):\n",
        "    def __init__(self, video_files, labels, transform=None):\n",
        "        self.video_files = video_files\n",
        "        self.labels = labels\n",
        "        self.transform = transform or get_transforms()\n",
        "\n",
        "    def __len__(self):\n",
        "        return len(self.video_files)\n",
        "\n",
        "    def __getitem__(self, idx):\n",
        "        video_name = os.path.splitext(self.video_files[idx])[0]\n",
        "        frame_dir = os.path.join(Config.EXTRACTED_FRAMES_DIR, video_name)\n",
        "\n",
        "        frame_files = sorted([f for f in os.listdir(frame_dir) if f.endswith('.jpg')])\n",
        "        frame_files = self._select_frames(frame_files)\n",
        "\n",
        "        frames = []\n",
        "        for frame_file in frame_files:\n",
        "            frame_path = os.path.join(frame_dir, frame_file)\n",
        "            frame = Image.open(frame_path).convert(\"RGB\")\n",
        "            if self.transform:\n",
        "                frame = self.transform(frame)\n",
        "            frames.append(frame)\n",
        "\n",
        "        frames = torch.stack(frames)  # Shape: (T, C, H, W)\n",
        "        label = torch.tensor(self.labels[idx], dtype=torch.float32)\n",
        "\n",
        "        return frames, label\n",
        "\n",
        "    def _select_frames(self, frame_files):\n",
        "        if Config.FRAME_EXTRACTION_METHOD == \"random\":\n",
        "            step = 1\n",
        "        else:\n",
        "            step = max(1, len(frame_files) // Config.NUM_FRAMES)\n",
        "\n",
        "        return frame_files[::step][:Config.NUM_FRAMES]\n",
        "\n",
        "# %%\n",
        "def prepare_datasets():\n",
        "    \"\"\"Prepare train and test datasets using MOS labels from CSV\"\"\"\n",
        "    # Load the CSV\n",
        "    df = pd.read_csv(Config.LABELS_CSV_PATH)  # e.g. 'konvid_labels.csv'\n",
        "\n",
        "    # Create full video filenames from flickr_id\n",
        "    df['filename'] = df['flickr_id'].astype(str) + '.mp4'\n",
        "\n",
        "    # Filter videos that exist in the dataset folder\n",
        "    all_videos = set(os.listdir(Config.DATA_PATH))\n",
        "    df = df[df['filename'].isin(all_videos)]\n",
        "\n",
        "    video_files = df['filename'].tolist()\n",
        "    labels = df['mos'].values\n",
        "\n",
        "    # Split into train and test\n",
        "    train_files, test_files, train_labels, test_labels = train_test_split(\n",
        "        video_files, labels, test_size=Config.TEST_SIZE, random_state=42\n",
        "    )\n",
        "\n",
        "    # Create datasets and dataloaders\n",
        "    transform = get_transforms()\n",
        "    train_dataset = VideoQualityDataset(train_files, train_labels, transform)\n",
        "    test_dataset = VideoQualityDataset(test_files, test_labels, transform)\n",
        "\n",
        "    print(f\"✅ Total videos: {len(video_files)}\")\n",
        "    print(f\"🟢 Training set size: {len(train_dataset)}\")\n",
        "    print(f\"🔵 Test set size: {len(test_dataset)}\")\n",
        "\n",
        "    train_loader = DataLoader(train_dataset, batch_size=Config.BATCH_SIZE, shuffle=True, num_workers=0)\n",
        "    test_loader = DataLoader(test_dataset, batch_size=Config.BATCH_SIZE, shuffle=False, num_workers=0)\n",
        "\n",
        "    return train_loader, test_loader\n",
        "\n",
        "\n",
        "# %%\n",
        "train_loader, test_loader = prepare_datasets()\n",
        "\n",
        "for batch in train_loader:\n",
        "    frames, labels = batch\n",
        "    print(\"Frames shape:\", frames.shape)  # Expected: (B, T, C, H, W)\n",
        "    print(\"Labels shape:\", labels.shape)  # Expected: (B,)\n",
        "    break\n"
      ]
    },
    {
      "cell_type": "code",
      "execution_count": null,
      "id": "c3f9030f",
      "metadata": {
        "id": "c3f9030f"
      },
      "outputs": [],
      "source": [
        "class VideoQualityModel(nn.Module):\n",
        "    def __init__(self):\n",
        "        super().__init__()\n",
        "        self.base_model = TimesformerForVideoClassification.from_pretrained(\n",
        "            Config.MODEL_NAME,\n",
        "            num_frames=Config.NUM_FRAMES,\n",
        "            ignore_mismatched_sizes=True\n",
        "        )\n",
        "\n",
        "        self.classifier = nn.Sequential(\n",
        "            nn.Linear(768, 256),\n",
        "            nn.ReLU(),\n",
        "            nn.Dropout(0.1),\n",
        "            nn.Linear(256, 1)\n",
        "        )\n",
        "\n",
        "    def forward(self, x):\n",
        "        outputs = self.base_model.timesformer(pixel_values=x)\n",
        "        last_hidden_state = outputs.last_hidden_state  # (B, N_tokens, D)\n",
        "\n",
        "        # Option 1: Mean pooling (what you're currently doing)\n",
        "        #last_hidden_state = last_hidden_state.mean(dim=1)  # (B, D)\n",
        "        #pooled_output = last_hidden_state\n",
        "        # Option 2 (alternative): Use CLS token only\n",
        "        last_hidden_state = last_hidden_state[:, 0, :]\n",
        "        cls_token = last_hidden_state\n",
        "        #print(\"Pooled shape:\", pooled_output.shape)\n",
        "        return self.classifier(cls_token).squeeze(), last_hidden_state\n"
      ]
    },
    {
      "cell_type": "code",
      "source": [
        "print(\"Model Architecture:\")\n",
        "print(VideoQualityModel())"
      ],
      "metadata": {
        "id": "o0DtG31ZzS-S",
        "colab": {
          "base_uri": "https://localhost:8080/"
        },
        "outputId": "73a0d78c-4337-43a3-b8f5-ba6642c084d0"
      },
      "id": "o0DtG31ZzS-S",
      "execution_count": null,
      "outputs": [
        {
          "output_type": "stream",
          "name": "stdout",
          "text": [
            "Model Architecture:\n"
          ]
        },
        {
          "output_type": "stream",
          "name": "stderr",
          "text": [
            "/usr/local/lib/python3.11/dist-packages/huggingface_hub/utils/_auth.py:94: UserWarning: \n",
            "The secret `HF_TOKEN` does not exist in your Colab secrets.\n",
            "To authenticate with the Hugging Face Hub, create a token in your settings tab (https://huggingface.co/settings/tokens), set it as secret in your Google Colab and restart your session.\n",
            "You will be able to reuse this secret in all of your notebooks.\n",
            "Please note that authentication is recommended but still optional to access public models or datasets.\n",
            "  warnings.warn(\n"
          ]
        },
        {
          "output_type": "stream",
          "name": "stdout",
          "text": [
            "VideoQualityModel(\n",
            "  (base_model): TimesformerForVideoClassification(\n",
            "    (timesformer): TimesformerModel(\n",
            "      (embeddings): TimesformerEmbeddings(\n",
            "        (patch_embeddings): TimesformerPatchEmbeddings(\n",
            "          (projection): Conv2d(3, 768, kernel_size=(16, 16), stride=(16, 16))\n",
            "        )\n",
            "        (pos_drop): Dropout(p=0.0, inplace=False)\n",
            "        (time_drop): Dropout(p=0.0, inplace=False)\n",
            "      )\n",
            "      (encoder): TimesformerEncoder(\n",
            "        (layer): ModuleList(\n",
            "          (0-11): 12 x TimesformerLayer(\n",
            "            (drop_path): Identity()\n",
            "            (attention): TimeSformerAttention(\n",
            "              (attention): TimesformerSelfAttention(\n",
            "                (qkv): Linear(in_features=768, out_features=2304, bias=True)\n",
            "                (attn_drop): Dropout(p=0.0, inplace=False)\n",
            "              )\n",
            "              (output): TimesformerSelfOutput(\n",
            "                (dense): Linear(in_features=768, out_features=768, bias=True)\n",
            "                (dropout): Dropout(p=0.0, inplace=False)\n",
            "              )\n",
            "            )\n",
            "            (intermediate): TimesformerIntermediate(\n",
            "              (dense): Linear(in_features=768, out_features=3072, bias=True)\n",
            "              (dropout): Dropout(p=0.0, inplace=False)\n",
            "              (intermediate_act_fn): GELUActivation()\n",
            "            )\n",
            "            (output): TimesformerOutput(\n",
            "              (dense): Linear(in_features=3072, out_features=768, bias=True)\n",
            "              (dropout): Dropout(p=0.0, inplace=False)\n",
            "            )\n",
            "            (layernorm_before): LayerNorm((768,), eps=1e-06, elementwise_affine=True)\n",
            "            (layernorm_after): LayerNorm((768,), eps=1e-06, elementwise_affine=True)\n",
            "            (temporal_layernorm): LayerNorm((768,), eps=1e-06, elementwise_affine=True)\n",
            "            (temporal_attention): TimeSformerAttention(\n",
            "              (attention): TimesformerSelfAttention(\n",
            "                (qkv): Linear(in_features=768, out_features=2304, bias=True)\n",
            "                (attn_drop): Dropout(p=0.0, inplace=False)\n",
            "              )\n",
            "              (output): TimesformerSelfOutput(\n",
            "                (dense): Linear(in_features=768, out_features=768, bias=True)\n",
            "                (dropout): Dropout(p=0.0, inplace=False)\n",
            "              )\n",
            "            )\n",
            "            (temporal_dense): Linear(in_features=768, out_features=768, bias=True)\n",
            "          )\n",
            "        )\n",
            "      )\n",
            "      (layernorm): LayerNorm((768,), eps=1e-06, elementwise_affine=True)\n",
            "    )\n",
            "    (classifier): Linear(in_features=768, out_features=400, bias=True)\n",
            "  )\n",
            "  (classifier): Sequential(\n",
            "    (0): Linear(in_features=768, out_features=256, bias=True)\n",
            "    (1): ReLU()\n",
            "    (2): Dropout(p=0.1, inplace=False)\n",
            "    (3): Linear(in_features=256, out_features=1, bias=True)\n",
            "  )\n",
            ")\n"
          ]
        }
      ]
    },
    {
      "cell_type": "code",
      "source": [
        "pip install torchviz\n"
      ],
      "metadata": {
        "colab": {
          "base_uri": "https://localhost:8080/",
          "height": 1000
        },
        "id": "qTmnJ21v_J5s",
        "outputId": "76754577-0b5c-488d-bf09-11b18353de43"
      },
      "id": "qTmnJ21v_J5s",
      "execution_count": null,
      "outputs": [
        {
          "output_type": "stream",
          "name": "stdout",
          "text": [
            "Collecting torchviz\n",
            "  Downloading torchviz-0.0.3-py3-none-any.whl.metadata (2.1 kB)\n",
            "Requirement already satisfied: torch in /usr/local/lib/python3.11/dist-packages (from torchviz) (2.6.0+cu124)\n",
            "Requirement already satisfied: graphviz in /usr/local/lib/python3.11/dist-packages (from torchviz) (0.20.3)\n",
            "Requirement already satisfied: filelock in /usr/local/lib/python3.11/dist-packages (from torch->torchviz) (3.18.0)\n",
            "Requirement already satisfied: typing-extensions>=4.10.0 in /usr/local/lib/python3.11/dist-packages (from torch->torchviz) (4.13.2)\n",
            "Requirement already satisfied: networkx in /usr/local/lib/python3.11/dist-packages (from torch->torchviz) (3.4.2)\n",
            "Requirement already satisfied: jinja2 in /usr/local/lib/python3.11/dist-packages (from torch->torchviz) (3.1.6)\n",
            "Requirement already satisfied: fsspec in /usr/local/lib/python3.11/dist-packages (from torch->torchviz) (2025.3.2)\n",
            "Collecting nvidia-cuda-nvrtc-cu12==12.4.127 (from torch->torchviz)\n",
            "  Downloading nvidia_cuda_nvrtc_cu12-12.4.127-py3-none-manylinux2014_x86_64.whl.metadata (1.5 kB)\n",
            "Collecting nvidia-cuda-runtime-cu12==12.4.127 (from torch->torchviz)\n",
            "  Downloading nvidia_cuda_runtime_cu12-12.4.127-py3-none-manylinux2014_x86_64.whl.metadata (1.5 kB)\n",
            "Collecting nvidia-cuda-cupti-cu12==12.4.127 (from torch->torchviz)\n",
            "  Downloading nvidia_cuda_cupti_cu12-12.4.127-py3-none-manylinux2014_x86_64.whl.metadata (1.6 kB)\n",
            "Collecting nvidia-cudnn-cu12==9.1.0.70 (from torch->torchviz)\n",
            "  Downloading nvidia_cudnn_cu12-9.1.0.70-py3-none-manylinux2014_x86_64.whl.metadata (1.6 kB)\n",
            "Collecting nvidia-cublas-cu12==12.4.5.8 (from torch->torchviz)\n",
            "  Downloading nvidia_cublas_cu12-12.4.5.8-py3-none-manylinux2014_x86_64.whl.metadata (1.5 kB)\n",
            "Collecting nvidia-cufft-cu12==11.2.1.3 (from torch->torchviz)\n",
            "  Downloading nvidia_cufft_cu12-11.2.1.3-py3-none-manylinux2014_x86_64.whl.metadata (1.5 kB)\n",
            "Collecting nvidia-curand-cu12==10.3.5.147 (from torch->torchviz)\n",
            "  Downloading nvidia_curand_cu12-10.3.5.147-py3-none-manylinux2014_x86_64.whl.metadata (1.5 kB)\n",
            "Collecting nvidia-cusolver-cu12==11.6.1.9 (from torch->torchviz)\n",
            "  Downloading nvidia_cusolver_cu12-11.6.1.9-py3-none-manylinux2014_x86_64.whl.metadata (1.6 kB)\n",
            "Collecting nvidia-cusparse-cu12==12.3.1.170 (from torch->torchviz)\n",
            "  Downloading nvidia_cusparse_cu12-12.3.1.170-py3-none-manylinux2014_x86_64.whl.metadata (1.6 kB)\n",
            "Requirement already satisfied: nvidia-cusparselt-cu12==0.6.2 in /usr/local/lib/python3.11/dist-packages (from torch->torchviz) (0.6.2)\n",
            "Requirement already satisfied: nvidia-nccl-cu12==2.21.5 in /usr/local/lib/python3.11/dist-packages (from torch->torchviz) (2.21.5)\n",
            "Requirement already satisfied: nvidia-nvtx-cu12==12.4.127 in /usr/local/lib/python3.11/dist-packages (from torch->torchviz) (12.4.127)\n",
            "Collecting nvidia-nvjitlink-cu12==12.4.127 (from torch->torchviz)\n",
            "  Downloading nvidia_nvjitlink_cu12-12.4.127-py3-none-manylinux2014_x86_64.whl.metadata (1.5 kB)\n",
            "Requirement already satisfied: triton==3.2.0 in /usr/local/lib/python3.11/dist-packages (from torch->torchviz) (3.2.0)\n",
            "Requirement already satisfied: sympy==1.13.1 in /usr/local/lib/python3.11/dist-packages (from torch->torchviz) (1.13.1)\n",
            "Requirement already satisfied: mpmath<1.4,>=1.1.0 in /usr/local/lib/python3.11/dist-packages (from sympy==1.13.1->torch->torchviz) (1.3.0)\n",
            "Requirement already satisfied: MarkupSafe>=2.0 in /usr/local/lib/python3.11/dist-packages (from jinja2->torch->torchviz) (3.0.2)\n",
            "Downloading torchviz-0.0.3-py3-none-any.whl (5.7 kB)\n",
            "Downloading nvidia_cublas_cu12-12.4.5.8-py3-none-manylinux2014_x86_64.whl (363.4 MB)\n",
            "\u001b[2K   \u001b[90m━━━━━━━━━━━━━━━━━━━━━━━━━━━━━━━━━━━━━━━━\u001b[0m \u001b[32m363.4/363.4 MB\u001b[0m \u001b[31m4.7 MB/s\u001b[0m eta \u001b[36m0:00:00\u001b[0m\n",
            "\u001b[?25hDownloading nvidia_cuda_cupti_cu12-12.4.127-py3-none-manylinux2014_x86_64.whl (13.8 MB)\n",
            "\u001b[2K   \u001b[90m━━━━━━━━━━━━━━━━━━━━━━━━━━━━━━━━━━━━━━━━\u001b[0m \u001b[32m13.8/13.8 MB\u001b[0m \u001b[31m95.0 MB/s\u001b[0m eta \u001b[36m0:00:00\u001b[0m\n",
            "\u001b[?25hDownloading nvidia_cuda_nvrtc_cu12-12.4.127-py3-none-manylinux2014_x86_64.whl (24.6 MB)\n",
            "\u001b[2K   \u001b[90m━━━━━━━━━━━━━━━━━━━━━━━━━━━━━━━━━━━━━━━━\u001b[0m \u001b[32m24.6/24.6 MB\u001b[0m \u001b[31m67.5 MB/s\u001b[0m eta \u001b[36m0:00:00\u001b[0m\n",
            "\u001b[?25hDownloading nvidia_cuda_runtime_cu12-12.4.127-py3-none-manylinux2014_x86_64.whl (883 kB)\n",
            "\u001b[2K   \u001b[90m━━━━━━━━━━━━━━━━━━━━━━━━━━━━━━━━━━━━━━━━\u001b[0m \u001b[32m883.7/883.7 kB\u001b[0m \u001b[31m40.6 MB/s\u001b[0m eta \u001b[36m0:00:00\u001b[0m\n",
            "\u001b[?25hDownloading nvidia_cudnn_cu12-9.1.0.70-py3-none-manylinux2014_x86_64.whl (664.8 MB)\n",
            "\u001b[2K   \u001b[90m━━━━━━━━━━━━━━━━━━━━━━━━━━━━━━━━━━━━━━━\u001b[0m \u001b[32m664.8/664.8 MB\u001b[0m \u001b[31m791.7 kB/s\u001b[0m eta \u001b[36m0:00:00\u001b[0m\n",
            "\u001b[?25hDownloading nvidia_cufft_cu12-11.2.1.3-py3-none-manylinux2014_x86_64.whl (211.5 MB)\n",
            "\u001b[2K   \u001b[90m━━━━━━━━━━━━━━━━━━━━━━━━━━━━━━━━━━━━━━━━\u001b[0m \u001b[32m211.5/211.5 MB\u001b[0m \u001b[31m1.6 MB/s\u001b[0m eta \u001b[36m0:00:00\u001b[0m\n",
            "\u001b[?25hDownloading nvidia_curand_cu12-10.3.5.147-py3-none-manylinux2014_x86_64.whl (56.3 MB)\n",
            "\u001b[2K   \u001b[90m━━━━━━━━━━━━━━━━━━━━━━━━━━━━━━━━━━━━━━━━\u001b[0m \u001b[32m56.3/56.3 MB\u001b[0m \u001b[31m10.6 MB/s\u001b[0m eta \u001b[36m0:00:00\u001b[0m\n",
            "\u001b[?25hDownloading nvidia_cusolver_cu12-11.6.1.9-py3-none-manylinux2014_x86_64.whl (127.9 MB)\n",
            "\u001b[2K   \u001b[90m━━━━━━━━━━━━━━━━━━━━━━━━━━━━━━━━━━━━━━━━\u001b[0m \u001b[32m127.9/127.9 MB\u001b[0m \u001b[31m8.0 MB/s\u001b[0m eta \u001b[36m0:00:00\u001b[0m\n",
            "\u001b[?25hDownloading nvidia_cusparse_cu12-12.3.1.170-py3-none-manylinux2014_x86_64.whl (207.5 MB)\n",
            "\u001b[2K   \u001b[90m━━━━━━━━━━━━━━━━━━━━━━━━━━━━━━━━━━━━━━━━\u001b[0m \u001b[32m207.5/207.5 MB\u001b[0m \u001b[31m6.0 MB/s\u001b[0m eta \u001b[36m0:00:00\u001b[0m\n",
            "\u001b[?25hDownloading nvidia_nvjitlink_cu12-12.4.127-py3-none-manylinux2014_x86_64.whl (21.1 MB)\n",
            "\u001b[2K   \u001b[90m━━━━━━━━━━━━━━━━━━━━━━━━━━━━━━━━━━━━━━━━\u001b[0m \u001b[32m21.1/21.1 MB\u001b[0m \u001b[31m50.2 MB/s\u001b[0m eta \u001b[36m0:00:00\u001b[0m\n",
            "\u001b[?25hInstalling collected packages: nvidia-nvjitlink-cu12, nvidia-curand-cu12, nvidia-cufft-cu12, nvidia-cuda-runtime-cu12, nvidia-cuda-nvrtc-cu12, nvidia-cuda-cupti-cu12, nvidia-cublas-cu12, nvidia-cusparse-cu12, nvidia-cudnn-cu12, nvidia-cusolver-cu12, torchviz\n",
            "  Attempting uninstall: nvidia-nvjitlink-cu12\n",
            "    Found existing installation: nvidia-nvjitlink-cu12 12.5.82\n",
            "    Uninstalling nvidia-nvjitlink-cu12-12.5.82:\n",
            "      Successfully uninstalled nvidia-nvjitlink-cu12-12.5.82\n",
            "  Attempting uninstall: nvidia-curand-cu12\n",
            "    Found existing installation: nvidia-curand-cu12 10.3.6.82\n",
            "    Uninstalling nvidia-curand-cu12-10.3.6.82:\n",
            "      Successfully uninstalled nvidia-curand-cu12-10.3.6.82\n",
            "  Attempting uninstall: nvidia-cufft-cu12\n",
            "    Found existing installation: nvidia-cufft-cu12 11.2.3.61\n",
            "    Uninstalling nvidia-cufft-cu12-11.2.3.61:\n",
            "      Successfully uninstalled nvidia-cufft-cu12-11.2.3.61\n",
            "  Attempting uninstall: nvidia-cuda-runtime-cu12\n",
            "    Found existing installation: nvidia-cuda-runtime-cu12 12.5.82\n",
            "    Uninstalling nvidia-cuda-runtime-cu12-12.5.82:\n",
            "      Successfully uninstalled nvidia-cuda-runtime-cu12-12.5.82\n",
            "  Attempting uninstall: nvidia-cuda-nvrtc-cu12\n",
            "    Found existing installation: nvidia-cuda-nvrtc-cu12 12.5.82\n",
            "    Uninstalling nvidia-cuda-nvrtc-cu12-12.5.82:\n",
            "      Successfully uninstalled nvidia-cuda-nvrtc-cu12-12.5.82\n",
            "  Attempting uninstall: nvidia-cuda-cupti-cu12\n",
            "    Found existing installation: nvidia-cuda-cupti-cu12 12.5.82\n",
            "    Uninstalling nvidia-cuda-cupti-cu12-12.5.82:\n",
            "      Successfully uninstalled nvidia-cuda-cupti-cu12-12.5.82\n",
            "  Attempting uninstall: nvidia-cublas-cu12\n",
            "    Found existing installation: nvidia-cublas-cu12 12.5.3.2\n",
            "    Uninstalling nvidia-cublas-cu12-12.5.3.2:\n",
            "      Successfully uninstalled nvidia-cublas-cu12-12.5.3.2\n",
            "  Attempting uninstall: nvidia-cusparse-cu12\n",
            "    Found existing installation: nvidia-cusparse-cu12 12.5.1.3\n",
            "    Uninstalling nvidia-cusparse-cu12-12.5.1.3:\n",
            "      Successfully uninstalled nvidia-cusparse-cu12-12.5.1.3\n",
            "  Attempting uninstall: nvidia-cudnn-cu12\n",
            "    Found existing installation: nvidia-cudnn-cu12 9.3.0.75\n",
            "    Uninstalling nvidia-cudnn-cu12-9.3.0.75:\n",
            "      Successfully uninstalled nvidia-cudnn-cu12-9.3.0.75\n",
            "  Attempting uninstall: nvidia-cusolver-cu12\n",
            "    Found existing installation: nvidia-cusolver-cu12 11.6.3.83\n",
            "    Uninstalling nvidia-cusolver-cu12-11.6.3.83:\n",
            "      Successfully uninstalled nvidia-cusolver-cu12-11.6.3.83\n",
            "Successfully installed nvidia-cublas-cu12-12.4.5.8 nvidia-cuda-cupti-cu12-12.4.127 nvidia-cuda-nvrtc-cu12-12.4.127 nvidia-cuda-runtime-cu12-12.4.127 nvidia-cudnn-cu12-9.1.0.70 nvidia-cufft-cu12-11.2.1.3 nvidia-curand-cu12-10.3.5.147 nvidia-cusolver-cu12-11.6.1.9 nvidia-cusparse-cu12-12.3.1.170 nvidia-nvjitlink-cu12-12.4.127 torchviz-0.0.3\n"
          ]
        },
        {
          "output_type": "display_data",
          "data": {
            "application/vnd.colab-display-data+json": {
              "pip_warning": {
                "packages": [
                  "nvidia"
                ]
              },
              "id": "028d05d2ae26486b984814728d26830d"
            }
          },
          "metadata": {}
        }
      ]
    },
    {
      "cell_type": "code",
      "source": [
        "import torch\n",
        "from torchviz import make_dot\n",
        "\n",
        "# 👇 Set your device: CUDA if available, else CPU\n",
        "device = torch.device(\"cuda\" if torch.cuda.is_available() else \"cpu\")\n",
        "\n",
        "# Move model to device\n",
        "model = VideoQualityModel().to(device)\n",
        "\n",
        "# Generate a dummy input (shape: batch_size x channels x frames x height x width)\n",
        "# For TimeSformer: usually (B, C, T, H, W) → e.g., (1, 3, 8, 224, 224)\n",
        "x = torch.randn(1, 8, 3, 224, 224).to(device)  # B, T, C, H, W\n",
        "\n",
        "\n",
        "# Pass input through model\n",
        "out = model(x)\n",
        "\n",
        "# 🔧 Create graph\n",
        "dot = make_dot(out, params=dict(model.named_parameters()))\n",
        "dot.format = 'png'\n",
        "\n",
        "# 💾 Save to file\n",
        "dot.render('video_quality_model_architecture')\n",
        "\n",
        "print(\"✅ Model architecture saved as 'video_quality_model_architecture.png'\")\n"
      ],
      "metadata": {
        "colab": {
          "base_uri": "https://localhost:8080/"
        },
        "id": "_3MeBSiN-42C",
        "outputId": "fdaa0df5-6be0-4f79-c98b-b63728472993"
      },
      "id": "_3MeBSiN-42C",
      "execution_count": null,
      "outputs": [
        {
          "output_type": "stream",
          "name": "stderr",
          "text": [
            "dot: graph is too large for cairo-renderer bitmaps. Scaling by 0.554997 to fit\n"
          ]
        },
        {
          "output_type": "stream",
          "name": "stdout",
          "text": [
            "✅ Model architecture saved as 'video_quality_model_architecture.png'\n"
          ]
        }
      ]
    },
    {
      "cell_type": "code",
      "source": [
        "def inspect_model_parameters():\n",
        "    model = VideoQualityModel().to(Config.DEVICE)\n",
        "\n",
        "    total_params = 0\n",
        "    trainable_params = 0\n",
        "\n",
        "    #print(\"\\n🧠 Model Parameter Overview:\")\n",
        "    for name, param in model.named_parameters():\n",
        "        param_count = param.numel()\n",
        "        total_params += param_count\n",
        "        if param.requires_grad:\n",
        "            trainable_params += param_count\n",
        "        #print(f\"{name:<60} shape={str(param.shape):<20} trainable={param.requires_grad}\")\n",
        "\n",
        "    print(\"\\n📊 Summary:\")\n",
        "    print(f\"🔢 Total parameters: {total_params:,}\")\n",
        "    print(f\"✅ Trainable parameters: {trainable_params:,}\")\n",
        "    print(f\"❎ Non-trainable parameters: {total_params - trainable_params:,}\")\n",
        "inspect_model_parameters()\n"
      ],
      "metadata": {
        "colab": {
          "base_uri": "https://localhost:8080/"
        },
        "id": "MHN458tm6of9",
        "outputId": "2c44bb62-aa55-4e7f-c06f-7e3782b35290"
      },
      "id": "MHN458tm6of9",
      "execution_count": null,
      "outputs": [
        {
          "output_type": "stream",
          "name": "stdout",
          "text": [
            "\n",
            "📊 Summary:\n",
            "🔢 Total parameters: 121,763,473\n",
            "✅ Trainable parameters: 121,763,473\n",
            "❎ Non-trainable parameters: 0\n"
          ]
        }
      ]
    },
    {
      "cell_type": "code",
      "execution_count": null,
      "id": "33907255",
      "metadata": {
        "id": "33907255",
        "outputId": "60dca903-e88d-46bd-d19f-84853f26e84b",
        "colab": {
          "base_uri": "https://localhost:8080/"
        }
      },
      "outputs": [
        {
          "output_type": "stream",
          "name": "stdout",
          "text": [
            "✅ Total videos: 1200\n",
            "🟢 Training set size: 960\n",
            "🔵 Test set size: 240\n",
            "\n",
            "📊 DEBUG INFO BEFORE TRAINING STARTS\n",
            "torch.Size([1])\n",
            "tensor([-0.0981], device='cuda:0')\n",
            "Base output shape: torch.Size([1, 768])\n",
            "Num frames: 8\n",
            "Expected patches per frame: 95\n",
            "torch.Size([1]) tensor([3.0400], device='cuda:0')\n",
            "--------------------------------------------------\n",
            "\n"
          ]
        },
        {
          "output_type": "stream",
          "name": "stderr",
          "text": [
            "Epoch 1/15: 100%|██████████| 960/960 [08:15<00:00,  1.94it/s]\n"
          ]
        },
        {
          "output_type": "stream",
          "name": "stdout",
          "text": [
            "✅ Epoch 1: Train Loss: 0.4425, Test Loss: 0.2476\n"
          ]
        },
        {
          "output_type": "stream",
          "name": "stderr",
          "text": [
            "Epoch 2/15: 100%|██████████| 960/960 [08:21<00:00,  1.91it/s]\n"
          ]
        },
        {
          "output_type": "stream",
          "name": "stdout",
          "text": [
            "✅ Epoch 2: Train Loss: 0.2992, Test Loss: 0.2469\n"
          ]
        },
        {
          "output_type": "stream",
          "name": "stderr",
          "text": [
            "Epoch 3/15: 100%|██████████| 960/960 [08:10<00:00,  1.96it/s]\n"
          ]
        },
        {
          "output_type": "stream",
          "name": "stdout",
          "text": [
            "✅ Epoch 3: Train Loss: 0.2755, Test Loss: 0.2037\n"
          ]
        },
        {
          "output_type": "stream",
          "name": "stderr",
          "text": [
            "Epoch 4/15: 100%|██████████| 960/960 [08:13<00:00,  1.94it/s]\n"
          ]
        },
        {
          "output_type": "stream",
          "name": "stdout",
          "text": [
            "✅ Epoch 4: Train Loss: 0.2183, Test Loss: 0.2776\n"
          ]
        },
        {
          "output_type": "stream",
          "name": "stderr",
          "text": [
            "Epoch 5/15: 100%|██████████| 960/960 [08:13<00:00,  1.95it/s]\n"
          ]
        },
        {
          "output_type": "stream",
          "name": "stdout",
          "text": [
            "✅ Epoch 5: Train Loss: 0.2153, Test Loss: 0.2949\n"
          ]
        },
        {
          "output_type": "stream",
          "name": "stderr",
          "text": [
            "Epoch 6/15: 100%|██████████| 960/960 [08:13<00:00,  1.94it/s]\n"
          ]
        },
        {
          "output_type": "stream",
          "name": "stdout",
          "text": [
            "✅ Epoch 6: Train Loss: 0.1692, Test Loss: 0.2008\n"
          ]
        },
        {
          "output_type": "stream",
          "name": "stderr",
          "text": [
            "Epoch 7/15: 100%|██████████| 960/960 [08:13<00:00,  1.94it/s]\n"
          ]
        },
        {
          "output_type": "stream",
          "name": "stdout",
          "text": [
            "✅ Epoch 7: Train Loss: 0.1406, Test Loss: 0.2311\n"
          ]
        },
        {
          "output_type": "stream",
          "name": "stderr",
          "text": [
            "Epoch 8/15: 100%|██████████| 960/960 [08:13<00:00,  1.95it/s]\n"
          ]
        },
        {
          "output_type": "stream",
          "name": "stdout",
          "text": [
            "✅ Epoch 8: Train Loss: 0.1260, Test Loss: 0.1993\n"
          ]
        },
        {
          "output_type": "stream",
          "name": "stderr",
          "text": [
            "Epoch 9/15: 100%|██████████| 960/960 [08:12<00:00,  1.95it/s]\n"
          ]
        },
        {
          "output_type": "stream",
          "name": "stdout",
          "text": [
            "✅ Epoch 9: Train Loss: 0.1112, Test Loss: 0.2310\n"
          ]
        },
        {
          "output_type": "stream",
          "name": "stderr",
          "text": [
            "Epoch 10/15: 100%|██████████| 960/960 [08:14<00:00,  1.94it/s]\n"
          ]
        },
        {
          "output_type": "stream",
          "name": "stdout",
          "text": [
            "✅ Epoch 10: Train Loss: 0.1103, Test Loss: 0.3028\n"
          ]
        },
        {
          "output_type": "stream",
          "name": "stderr",
          "text": [
            "Epoch 11/15: 100%|██████████| 960/960 [08:11<00:00,  1.95it/s]\n"
          ]
        },
        {
          "output_type": "stream",
          "name": "stdout",
          "text": [
            "✅ Epoch 11: Train Loss: 0.0861, Test Loss: 0.2240\n"
          ]
        },
        {
          "output_type": "stream",
          "name": "stderr",
          "text": [
            "Epoch 12/15: 100%|██████████| 960/960 [08:11<00:00,  1.95it/s]\n"
          ]
        },
        {
          "output_type": "stream",
          "name": "stdout",
          "text": [
            "✅ Epoch 12: Train Loss: 0.0903, Test Loss: 0.2125\n"
          ]
        },
        {
          "output_type": "stream",
          "name": "stderr",
          "text": [
            "Epoch 13/15: 100%|██████████| 960/960 [08:11<00:00,  1.95it/s]\n"
          ]
        },
        {
          "output_type": "stream",
          "name": "stdout",
          "text": [
            "✅ Epoch 13: Train Loss: 0.1016, Test Loss: 0.2016\n"
          ]
        },
        {
          "output_type": "stream",
          "name": "stderr",
          "text": [
            "Epoch 14/15: 100%|██████████| 960/960 [08:13<00:00,  1.95it/s]\n"
          ]
        },
        {
          "output_type": "stream",
          "name": "stdout",
          "text": [
            "✅ Epoch 14: Train Loss: 0.0751, Test Loss: 0.2193\n"
          ]
        },
        {
          "output_type": "stream",
          "name": "stderr",
          "text": [
            "Epoch 15/15: 100%|██████████| 960/960 [08:11<00:00,  1.95it/s]\n"
          ]
        },
        {
          "output_type": "stream",
          "name": "stdout",
          "text": [
            "✅ Epoch 15: Train Loss: 0.0771, Test Loss: 0.2295\n"
          ]
        }
      ],
      "source": [
        "def train_model():\n",
        "    # Initialize\n",
        "    train_loader, test_loader = prepare_datasets()\n",
        "    model = VideoQualityModel().to(Config.DEVICE)\n",
        "    optimizer = torch.optim.AdamW(model.parameters(), lr=Config.LEARNING_RATE)\n",
        "    criterion = nn.MSELoss()\n",
        "\n",
        "    # Training history\n",
        "    history = {'train_loss': [], 'test_loss': []}\n",
        "\n",
        "    # 🧪 DEBUG: Run one batch before training starts\n",
        "    model.eval()\n",
        "    with torch.no_grad():\n",
        "        for frames, labels in train_loader:\n",
        "            frames, labels = frames.to(Config.DEVICE), labels.to(Config.DEVICE)\n",
        "            outputs, base_model_output = model(frames)\n",
        "            outputs = outputs.view(-1)\n",
        "            labels = labels.view(-1)\n",
        "\n",
        "            print(\"\\n📊 DEBUG INFO BEFORE TRAINING STARTS\")\n",
        "            print(outputs.shape)                            # torch.Size([1])\n",
        "            print(outputs)                                  # tensor([...])\n",
        "            print(\"Base output shape:\", base_model_output.shape)  # torch.Size([1, 768])\n",
        "            print(\"Num frames:\", Config.NUM_FRAMES)               # 8\n",
        "            print(\"Expected patches per frame:\", (base_model_output.shape[1] - 1) // Config.NUM_FRAMES)\n",
        "            print(labels.shape, labels)                     # torch.Size([1]), tensor([...])\n",
        "            print(\"--------------------------------------------------\\n\")\n",
        "            break  # Only print for the first batch\n",
        "\n",
        "    # 🔁 Training loop\n",
        "    for epoch in range(Config.EPOCHS):\n",
        "        model.train()\n",
        "        train_loss = 0.0\n",
        "\n",
        "        for frames, labels in tqdm(train_loader, desc=f\"Epoch {epoch+1}/{Config.EPOCHS}\"):\n",
        "            frames, labels = frames.to(Config.DEVICE), labels.to(Config.DEVICE)\n",
        "\n",
        "            optimizer.zero_grad()\n",
        "            outputs, base_model_output = model(frames)\n",
        "            #outputs = outputs.view(-1)\n",
        "            #labels = labels.view(-1)\n",
        "            outputs = outputs.view(-1)\n",
        "            labels = labels.view_as(outputs)\n",
        "            loss = criterion(outputs, labels)\n",
        "            loss.backward()\n",
        "            optimizer.step()\n",
        "\n",
        "            train_loss += loss.item()\n",
        "\n",
        "        avg_train_loss = train_loss / len(train_loader)\n",
        "        history['train_loss'].append(avg_train_loss)\n",
        "\n",
        "        # Validation\n",
        "        model.eval()\n",
        "        test_loss = 0.0\n",
        "        with torch.no_grad():\n",
        "            for frames, labels in test_loader:\n",
        "                frames, labels = frames.to(Config.DEVICE), labels.to(Config.DEVICE)\n",
        "                outputs = model(frames)[0]\n",
        "\n",
        "                outputs = outputs.view(-1)\n",
        "                labels = labels.view_as(outputs)\n",
        "\n",
        "                test_loss += criterion(outputs, labels).item()\n",
        "\n",
        "                avg_test_loss = test_loss / len(test_loader)\n",
        "                history['test_loss'].append(avg_test_loss)\n",
        "\n",
        "        print(f\"✅ Epoch {epoch+1}: Train Loss: {avg_train_loss:.4f}, Test Loss: {avg_test_loss:.4f}\")\n",
        "\n",
        "    # 💾 Save model\n",
        "    os.makedirs(Config.OUTPUT_DIR, exist_ok=True)\n",
        "    torch.save(model.state_dict(), os.path.join(Config.OUTPUT_DIR, \"vqa_model1.pth\"))\n",
        "    return model, history\n",
        "\n",
        "# 🚀 Start training\n",
        "model, history = train_model()\n"
      ]
    },
    {
      "cell_type": "code",
      "source": [
        "model_output_dir = \"/content/drive/MyDrive/IITHPROJECT/models\"\n",
        "os.makedirs(model_output_dir, exist_ok=True)"
      ],
      "metadata": {
        "id": "VgeHUt_6dKGH"
      },
      "id": "VgeHUt_6dKGH",
      "execution_count": null,
      "outputs": []
    },
    {
      "cell_type": "code",
      "source": [
        "model = VideoQualityModel().to(Config.DEVICE)\n"
      ],
      "metadata": {
        "id": "42ZG_oUkeIZC"
      },
      "id": "42ZG_oUkeIZC",
      "execution_count": null,
      "outputs": []
    },
    {
      "cell_type": "code",
      "source": [
        "os.makedirs(Config.OUTPUT_DIR, exist_ok=True)\n",
        "    torch.save(model.state_dict(), os.path.join(Config.OUTPUT_DIR, \"vqa_model1.pth\"))"
      ],
      "metadata": {
        "id": "dQzA4B67UuR7"
      },
      "id": "dQzA4B67UuR7",
      "execution_count": null,
      "outputs": []
    },
    {
      "cell_type": "code",
      "source": [
        "'''history = {\n",
        "    'train_loss': [0.4384, 0.2917, 0.2660, 0.2351, 0.2014, 0.1913, 0.1341, 0.1259],\n",
        "    'test_loss':  [0.2011, 0.2192, 0.1856, 0.3123, 0.2341, 0.2856, 0.2476, 0.2266]\n",
        "}\n",
        "'''"
      ],
      "metadata": {
        "id": "OGdnRCFegw4q"
      },
      "id": "OGdnRCFegw4q",
      "execution_count": null,
      "outputs": []
    },
    {
      "cell_type": "code",
      "source": [
        "import matplotlib.pyplot as plt\n",
        "\n",
        "# Loss values from your log\n",
        "train_loss = [0.4425, 0.2992, 0.2755, 0.2183, 0.2153, 0.1692, 0.1406, 0.1260, 0.1112, 0.1103, 0.0861, 0.0903, 0.1016, 0.0751, 0.0771]\n",
        "test_loss =  [0.2476, 0.2469, 0.2037, 0.2776, 0.2949, 0.2008, 0.2311, 0.1993, 0.2310, 0.3028, 0.2240, 0.2125, 0.2016, 0.2193, 0.2295]\n",
        "\n",
        "epochs = range(1, 16)\n",
        "\n",
        "plt.figure(figsize=(10, 6))\n",
        "plt.plot(epochs, train_loss, label=\"Train Loss\", marker='o')\n",
        "plt.plot(epochs, test_loss, label=\"Test Loss\", marker='s')\n",
        "plt.xlabel(\"Epoch\")\n",
        "plt.ylabel(\"MSE Loss\")\n",
        "plt.title(\"Training vs Test Loss\")\n",
        "plt.legend()\n",
        "plt.grid(True)\n",
        "plt.tight_layout()\n",
        "plt.show()\n"
      ],
      "metadata": {
        "colab": {
          "base_uri": "https://localhost:8080/",
          "height": 607
        },
        "id": "lQOR7u4zcnOA",
        "outputId": "51305018-9418-40da-89cc-c6f7cf7cb435"
      },
      "id": "lQOR7u4zcnOA",
      "execution_count": null,
      "outputs": [
        {
          "output_type": "display_data",
          "data": {
            "text/plain": [
              "<Figure size 1000x600 with 1 Axes>"
            ],
            "image/png": "[encoded data removed]"
          },
          "metadata": {}
        }
      ]
    },
    {
      "cell_type": "code",
      "source": [
        "from sklearn.manifold import TSNE\n",
        "\n",
        "def generate_tsne(model, test_loader):\n",
        "    model.eval()\n",
        "    base_outputs, labels = [], []\n",
        "\n",
        "    with torch.no_grad():\n",
        "        for frames, lbls in test_loader:\n",
        "            frames = frames.to(Config.DEVICE)\n",
        "            _, base_out = model(frames)\n",
        "            base_outputs.append(base_out.cpu())\n",
        "            labels.extend(lbls.cpu().numpy())\n",
        "\n",
        "    base_outputs = torch.cat(base_outputs).numpy()\n",
        "    tsne = TSNE(n_components=2, perplexity=30, learning_rate=200, n_iter=1000, random_state=42)\n",
        "    tsne_results = tsne.fit_transform(base_outputs)\n",
        "\n",
        "    plt.figure(figsize=(8, 6))\n",
        "    scatter = plt.scatter(tsne_results[:, 0], tsne_results[:, 1], c=labels, cmap='viridis', s=50, alpha=0.7)\n",
        "    plt.colorbar(scatter, label=\"MOS\")\n",
        "    plt.title(\"t-SNE of Base Model Outputs\")\n",
        "    plt.grid(True)\n",
        "    plt.tight_layout()\n",
        "    plt.show()\n",
        "\n",
        "generate_tsne(model, test_loader)\n"
      ],
      "metadata": {
        "id": "pINYVb7sJ4f4",
        "colab": {
          "base_uri": "https://localhost:8080/",
          "height": 642
        },
        "outputId": "8317594a-c9f0-4f11-a7a2-a359d358778a"
      },
      "id": "pINYVb7sJ4f4",
      "execution_count": null,
      "outputs": [
        {
          "output_type": "stream",
          "name": "stderr",
          "text": [
            "/usr/local/lib/python3.11/dist-packages/sklearn/manifold/_t_sne.py:1164: FutureWarning: 'n_iter' was renamed to 'max_iter' in version 1.5 and will be removed in 1.7.\n",
            "  warnings.warn(\n"
          ]
        },
        {
          "output_type": "display_data",
          "data": {
            "text/plain": [
              "<Figure size 800x600 with 2 Axes>"
            ],
            "image/png": "[encoded data removed]"
          },
          "metadata": {}
        }
      ]
    },
    {
      "cell_type": "code",
      "source": [
        "import torch\n",
        "import torch.nn as nn\n",
        "from transformers import TimesformerForVideoClassification\n",
        "from PIL import Image\n",
        "import os\n",
        "\n",
        "# --- Your custom VideoQualityModel ---\n",
        "class VideoQualityModel(nn.Module):\n",
        "    def __init__(self):\n",
        "        super().__init__()\n",
        "        self.base_model = TimesformerForVideoClassification.from_pretrained(\n",
        "            Config.MODEL_NAME,\n",
        "            num_frames=Config.NUM_FRAMES,\n",
        "            ignore_mismatched_sizes=True\n",
        "        )\n",
        "        self.classifier = nn.Sequential(\n",
        "            nn.Linear(768, 256),\n",
        "            nn.ReLU(),\n",
        "            nn.Dropout(0.1),\n",
        "            nn.Linear(256, 1)\n",
        "        )\n",
        "\n",
        "    def forward(self, x):\n",
        "        outputs = self.base_model.timesformer(pixel_values=x)\n",
        "        last_hidden_state = outputs.last_hidden_state  # (B, N_tokens, D)\n",
        "        cls_token = last_hidden_state[:, 0, :]\n",
        "        return self.classifier(cls_token).squeeze(), cls_token\n",
        "\n",
        "# --- Load the model ---\n",
        "model = VideoQualityModel()\n",
        "model.load_state_dict(torch.load(\"/content/drive/MyDrive/IITHPROJECT/vqa_model15ep.pth\", map_location=Config.DEVICE))\n",
        "model = model.to(Config.DEVICE)\n",
        "\n",
        "# --- Inference function ---\n",
        "def predict_video_quality(video_path, model):\n",
        "    \"\"\"Predict quality score for a single video\"\"\"\n",
        "    temp_dir = \"temp_frames\"\n",
        "\n",
        "    extract_frames(\n",
        "        video_path, temp_dir,\n",
        "        method=Config.FRAME_EXTRACTION_METHOD,\n",
        "        rate=Config.FRAME_EXTRACTION_RATE,\n",
        "        max_frames=Config.NUM_FRAMES\n",
        "    )\n",
        "\n",
        "    transform = get_transforms()\n",
        "    frame_files = sorted([f for f in os.listdir(temp_dir) if f.endswith('.jpg')])[:Config.NUM_FRAMES]\n",
        "    frames = [transform(Image.open(os.path.join(temp_dir, f))) for f in frame_files]\n",
        "\n",
        "    # Clean up\n",
        "    for f in frame_files:\n",
        "        os.remove(os.path.join(temp_dir, f))\n",
        "    os.rmdir(temp_dir)\n",
        "\n",
        "    frames = torch.stack(frames).unsqueeze(0).to(Config.DEVICE)  # (1, T, C, H, W)\n",
        "\n",
        "    model.eval()\n",
        "    with torch.no_grad():\n",
        "        score, _ = model(frames)  # Only use the score\n",
        "        score = score.item()\n",
        "        scaled_score = max(0, min(score, 5))\n",
        "    return scaled_score\n",
        "\n",
        "# --- Example usage ---\n",
        "video_path = \"/content/drive/MyDrive/IITHPROJECT/konvid1k/videos/10116604143.mp4\"\n",
        "quality_score = predict_video_quality(video_path, model)\n",
        "print(f\"🎥 Predicted quality score: {quality_score:.2f}\")\n"
      ],
      "metadata": {
        "id": "e_EwRF4xDWPW",
        "colab": {
          "base_uri": "https://localhost:8080/"
        },
        "outputId": "eefea4b8-2a9a-4267-a41f-7d8463ec3c48"
      },
      "id": "e_EwRF4xDWPW",
      "execution_count": null,
      "outputs": [
        {
          "output_type": "stream",
          "name": "stdout",
          "text": [
            "\n",
            "🎞️  10116604143.mp4 — 192 frames | 8.01s\n"
          ]
        },
        {
          "output_type": "stream",
          "name": "stderr",
          "text": [
            "Progress: 100%|██████████| 8/8 [00:01<00:00,  7.98frame/s]\n"
          ]
        },
        {
          "output_type": "stream",
          "name": "stdout",
          "text": [
            "✅ 8 frames extracted in 1.02s (7.84 fps)\n",
            "🎥 Predicted quality score: 2.50\n"
          ]
        }
      ]
    },
    {
      "cell_type": "code",
      "source": [
        "from tqdm import tqdm\n",
        "\n",
        "def evaluate_model(model, test_loader, device):\n",
        "    model.eval()\n",
        "    predictions = []\n",
        "    ground_truths = []\n",
        "\n",
        "    with torch.no_grad():\n",
        "        for batch in tqdm(test_loader, desc=\"🔍 Evaluating\"):\n",
        "            frames, labels = batch\n",
        "            frames = frames.to(device)  # (B, T, C, H, W)\n",
        "            labels = labels.to(device)\n",
        "\n",
        "            preds, _ = model(frames)\n",
        "            preds = preds.flatten()  # Keeps shape consistent for all batch sizes\n",
        "\n",
        "            predictions.extend(preds.cpu().numpy())\n",
        "            ground_truths.extend(labels.cpu().numpy())\n",
        "\n",
        "    return np.array(predictions), np.array(ground_truths)\n"
      ],
      "metadata": {
        "id": "c676DtdpoOCB"
      },
      "id": "c676DtdpoOCB",
      "execution_count": null,
      "outputs": []
    },
    {
      "cell_type": "code",
      "source": [
        "preds, trues = evaluate_model(model, test_loader, Config.DEVICE)\n",
        "\n",
        "# Print a few results\n",
        "for i in range(240):\n",
        "    print(f\"🎥 Sample {i+1}: True MOS = {trues[i]:.2f}, Predicted = {max(0, min(preds[i], 5)):.2f}\")\n"
      ],
      "metadata": {
        "id": "N1vhdrl-1HzT",
        "colab": {
          "base_uri": "https://localhost:8080/"
        },
        "outputId": "82a8dec7-b2f4-4b5c-c798-98f65a5df152"
      },
      "id": "N1vhdrl-1HzT",
      "execution_count": null,
      "outputs": [
        {
          "output_type": "stream",
          "name": "stderr",
          "text": [
            "🔍 Evaluating: 100%|██████████| 240/240 [38:30<00:00,  9.63s/it]"
          ]
        },
        {
          "output_type": "stream",
          "name": "stdout",
          "text": [
            "🎥 Sample 1: True MOS = 1.62, Predicted = 1.68\n",
            "🎥 Sample 2: True MOS = 2.64, Predicted = 3.30\n",
            "🎥 Sample 3: True MOS = 3.84, Predicted = 4.12\n",
            "🎥 Sample 4: True MOS = 3.34, Predicted = 3.57\n",
            "🎥 Sample 5: True MOS = 3.94, Predicted = 3.71\n",
            "🎥 Sample 6: True MOS = 1.98, Predicted = 2.62\n",
            "🎥 Sample 7: True MOS = 3.49, Predicted = 2.18\n",
            "🎥 Sample 8: True MOS = 2.40, Predicted = 1.94\n",
            "🎥 Sample 9: True MOS = 3.38, Predicted = 3.44\n",
            "🎥 Sample 10: True MOS = 2.66, Predicted = 3.77\n",
            "🎥 Sample 11: True MOS = 2.74, Predicted = 3.34\n",
            "🎥 Sample 12: True MOS = 4.02, Predicted = 3.70\n",
            "🎥 Sample 13: True MOS = 3.99, Predicted = 3.24\n",
            "🎥 Sample 14: True MOS = 2.68, Predicted = 3.05\n",
            "🎥 Sample 15: True MOS = 3.60, Predicted = 3.06\n",
            "🎥 Sample 16: True MOS = 3.72, Predicted = 3.60\n",
            "🎥 Sample 17: True MOS = 3.22, Predicted = 3.12\n",
            "🎥 Sample 18: True MOS = 2.86, Predicted = 2.44\n",
            "🎥 Sample 19: True MOS = 2.70, Predicted = 3.12\n",
            "🎥 Sample 20: True MOS = 3.36, Predicted = 3.60\n",
            "🎥 Sample 21: True MOS = 3.42, Predicted = 3.65\n",
            "🎥 Sample 22: True MOS = 3.10, Predicted = 3.09\n",
            "🎥 Sample 23: True MOS = 3.00, Predicted = 2.97\n",
            "🎥 Sample 24: True MOS = 3.47, Predicted = 3.59\n",
            "🎥 Sample 25: True MOS = 3.82, Predicted = 3.31\n",
            "🎥 Sample 26: True MOS = 3.56, Predicted = 3.39\n",
            "🎥 Sample 27: True MOS = 3.00, Predicted = 2.81\n",
            "🎥 Sample 28: True MOS = 3.15, Predicted = 3.38\n",
            "🎥 Sample 29: True MOS = 3.44, Predicted = 3.54\n",
            "🎥 Sample 30: True MOS = 3.12, Predicted = 3.33\n",
            "🎥 Sample 31: True MOS = 3.40, Predicted = 3.19\n",
            "🎥 Sample 32: True MOS = 2.58, Predicted = 3.53\n",
            "🎥 Sample 33: True MOS = 2.98, Predicted = 3.44\n",
            "🎥 Sample 34: True MOS = 2.92, Predicted = 3.36\n",
            "🎥 Sample 35: True MOS = 3.44, Predicted = 3.74\n",
            "🎥 Sample 36: True MOS = 3.12, Predicted = 2.60\n",
            "🎥 Sample 37: True MOS = 3.36, Predicted = 3.24\n",
            "🎥 Sample 38: True MOS = 3.92, Predicted = 3.82\n",
            "🎥 Sample 39: True MOS = 3.50, Predicted = 3.56\n",
            "🎥 Sample 40: True MOS = 3.04, Predicted = 3.33\n",
            "🎥 Sample 41: True MOS = 2.18, Predicted = 3.07\n",
            "🎥 Sample 42: True MOS = 3.84, Predicted = 3.36\n",
            "🎥 Sample 43: True MOS = 2.04, Predicted = 2.02\n",
            "🎥 Sample 44: True MOS = 3.44, Predicted = 3.41\n",
            "🎥 Sample 45: True MOS = 2.46, Predicted = 1.92\n",
            "🎥 Sample 46: True MOS = 3.48, Predicted = 3.34\n",
            "🎥 Sample 47: True MOS = 3.44, Predicted = 3.46\n",
            "🎥 Sample 48: True MOS = 4.11, Predicted = 3.64\n",
            "🎥 Sample 49: True MOS = 4.02, Predicted = 3.48\n",
            "🎥 Sample 50: True MOS = 3.60, Predicted = 3.75\n",
            "🎥 Sample 51: True MOS = 2.90, Predicted = 3.18\n",
            "🎥 Sample 52: True MOS = 1.88, Predicted = 3.10\n",
            "🎥 Sample 53: True MOS = 3.42, Predicted = 2.69\n",
            "🎥 Sample 54: True MOS = 3.72, Predicted = 3.48\n",
            "🎥 Sample 55: True MOS = 2.00, Predicted = 3.21\n",
            "🎥 Sample 56: True MOS = 3.48, Predicted = 3.97\n",
            "🎥 Sample 57: True MOS = 2.36, Predicted = 2.33\n",
            "🎥 Sample 58: True MOS = 1.68, Predicted = 2.15\n",
            "🎥 Sample 59: True MOS = 2.32, Predicted = 2.38\n",
            "🎥 Sample 60: True MOS = 3.42, Predicted = 3.51\n",
            "🎥 Sample 61: True MOS = 3.50, Predicted = 3.81\n",
            "🎥 Sample 62: True MOS = 3.74, Predicted = 3.63\n",
            "🎥 Sample 63: True MOS = 3.66, Predicted = 3.29\n",
            "🎥 Sample 64: True MOS = 3.88, Predicted = 3.82\n",
            "🎥 Sample 65: True MOS = 3.72, Predicted = 3.55\n",
            "🎥 Sample 66: True MOS = 2.32, Predicted = 2.91\n",
            "🎥 Sample 67: True MOS = 3.98, Predicted = 3.81\n",
            "🎥 Sample 68: True MOS = 3.34, Predicted = 3.04\n",
            "🎥 Sample 69: True MOS = 3.18, Predicted = 3.28\n",
            "🎥 Sample 70: True MOS = 3.26, Predicted = 2.83\n",
            "🎥 Sample 71: True MOS = 3.36, Predicted = 3.00\n",
            "🎥 Sample 72: True MOS = 3.78, Predicted = 3.83\n",
            "🎥 Sample 73: True MOS = 1.48, Predicted = 2.10\n",
            "🎥 Sample 74: True MOS = 3.96, Predicted = 3.84\n",
            "🎥 Sample 75: True MOS = 3.90, Predicted = 3.64\n",
            "🎥 Sample 76: True MOS = 3.34, Predicted = 3.65\n",
            "🎥 Sample 77: True MOS = 3.70, Predicted = 3.91\n",
            "🎥 Sample 78: True MOS = 3.96, Predicted = 3.50\n",
            "🎥 Sample 79: True MOS = 2.46, Predicted = 2.74\n",
            "🎥 Sample 80: True MOS = 2.68, Predicted = 2.12\n",
            "🎥 Sample 81: True MOS = 1.73, Predicted = 2.86\n",
            "🎥 Sample 82: True MOS = 3.64, Predicted = 3.45\n",
            "🎥 Sample 83: True MOS = 2.68, Predicted = 3.59\n",
            "🎥 Sample 84: True MOS = 3.82, Predicted = 3.22\n",
            "🎥 Sample 85: True MOS = 3.18, Predicted = 3.35\n",
            "🎥 Sample 86: True MOS = 2.28, Predicted = 1.74\n",
            "🎥 Sample 87: True MOS = 2.16, Predicted = 2.18\n",
            "🎥 Sample 88: True MOS = 3.70, Predicted = 3.84\n",
            "🎥 Sample 89: True MOS = 2.28, Predicted = 3.61\n",
            "🎥 Sample 90: True MOS = 3.10, Predicted = 3.29\n",
            "🎥 Sample 91: True MOS = 3.24, Predicted = 3.37\n",
            "🎥 Sample 92: True MOS = 3.30, Predicted = 3.03\n",
            "🎥 Sample 93: True MOS = 3.54, Predicted = 3.64\n",
            "🎥 Sample 94: True MOS = 3.42, Predicted = 3.06\n",
            "🎥 Sample 95: True MOS = 2.30, Predicted = 3.00\n",
            "🎥 Sample 96: True MOS = 3.02, Predicted = 3.43\n",
            "🎥 Sample 97: True MOS = 3.20, Predicted = 3.24\n",
            "🎥 Sample 98: True MOS = 2.54, Predicted = 2.48\n",
            "🎥 Sample 99: True MOS = 3.54, Predicted = 3.22\n",
            "🎥 Sample 100: True MOS = 3.80, Predicted = 3.49\n",
            "🎥 Sample 101: True MOS = 3.14, Predicted = 3.57\n",
            "🎥 Sample 102: True MOS = 3.76, Predicted = 3.15\n",
            "🎥 Sample 103: True MOS = 2.90, Predicted = 2.94\n",
            "🎥 Sample 104: True MOS = 3.90, Predicted = 3.54\n",
            "🎥 Sample 105: True MOS = 2.60, Predicted = 2.68\n",
            "🎥 Sample 106: True MOS = 2.90, Predicted = 3.26\n",
            "🎥 Sample 107: True MOS = 2.06, Predicted = 2.12\n",
            "🎥 Sample 108: True MOS = 2.54, Predicted = 3.05\n",
            "🎥 Sample 109: True MOS = 1.72, Predicted = 2.52\n",
            "🎥 Sample 110: True MOS = 2.48, Predicted = 2.22\n",
            "🎥 Sample 111: True MOS = 3.42, Predicted = 3.19\n",
            "🎥 Sample 112: True MOS = 2.58, Predicted = 3.07\n",
            "🎥 Sample 113: True MOS = 3.74, Predicted = 3.46\n",
            "🎥 Sample 114: True MOS = 2.34, Predicted = 3.01\n",
            "🎥 Sample 115: True MOS = 3.08, Predicted = 3.35\n",
            "🎥 Sample 116: True MOS = 2.24, Predicted = 3.59\n",
            "🎥 Sample 117: True MOS = 3.60, Predicted = 2.94\n",
            "🎥 Sample 118: True MOS = 3.74, Predicted = 3.70\n",
            "🎥 Sample 119: True MOS = 2.88, Predicted = 3.50\n",
            "🎥 Sample 120: True MOS = 3.68, Predicted = 3.62\n",
            "🎥 Sample 121: True MOS = 3.20, Predicted = 3.64\n",
            "🎥 Sample 122: True MOS = 2.56, Predicted = 3.20\n",
            "🎥 Sample 123: True MOS = 2.30, Predicted = 2.19\n",
            "🎥 Sample 124: True MOS = 2.16, Predicted = 1.60\n",
            "🎥 Sample 125: True MOS = 3.37, Predicted = 3.65\n",
            "🎥 Sample 126: True MOS = 1.56, Predicted = 2.89\n",
            "🎥 Sample 127: True MOS = 3.48, Predicted = 2.95\n",
            "🎥 Sample 128: True MOS = 3.80, Predicted = 3.06\n",
            "🎥 Sample 129: True MOS = 2.98, Predicted = 3.60\n",
            "🎥 Sample 130: True MOS = 3.08, Predicted = 3.62\n",
            "🎥 Sample 131: True MOS = 3.56, Predicted = 3.37\n",
            "🎥 Sample 132: True MOS = 1.83, Predicted = 2.39\n",
            "🎥 Sample 133: True MOS = 3.50, Predicted = 3.60\n",
            "🎥 Sample 134: True MOS = 3.62, Predicted = 3.28\n",
            "🎥 Sample 135: True MOS = 2.22, Predicted = 2.97\n",
            "🎥 Sample 136: True MOS = 3.08, Predicted = 3.77\n",
            "🎥 Sample 137: True MOS = 3.06, Predicted = 2.90\n",
            "🎥 Sample 138: True MOS = 3.28, Predicted = 3.41\n",
            "🎥 Sample 139: True MOS = 3.30, Predicted = 2.76\n",
            "🎥 Sample 140: True MOS = 2.50, Predicted = 3.23\n",
            "🎥 Sample 141: True MOS = 2.06, Predicted = 2.42\n",
            "🎥 Sample 142: True MOS = 3.08, Predicted = 3.79\n",
            "🎥 Sample 143: True MOS = 3.40, Predicted = 3.66\n",
            "🎥 Sample 144: True MOS = 3.06, Predicted = 3.08\n",
            "🎥 Sample 145: True MOS = 2.86, Predicted = 3.55\n",
            "🎥 Sample 146: True MOS = 3.20, Predicted = 3.65\n",
            "🎥 Sample 147: True MOS = 2.94, Predicted = 2.99\n",
            "🎥 Sample 148: True MOS = 3.02, Predicted = 2.18\n",
            "🎥 Sample 149: True MOS = 3.12, Predicted = 3.15\n",
            "🎥 Sample 150: True MOS = 3.28, Predicted = 3.75\n",
            "🎥 Sample 151: True MOS = 2.06, Predicted = 2.30\n",
            "🎥 Sample 152: True MOS = 3.50, Predicted = 3.04\n",
            "🎥 Sample 153: True MOS = 2.92, Predicted = 3.22\n",
            "🎥 Sample 154: True MOS = 3.66, Predicted = 3.71\n",
            "🎥 Sample 155: True MOS = 2.48, Predicted = 2.40\n",
            "🎥 Sample 156: True MOS = 3.34, Predicted = 3.83\n",
            "🎥 Sample 157: True MOS = 3.48, Predicted = 3.37\n",
            "🎥 Sample 158: True MOS = 3.58, Predicted = 3.50\n",
            "🎥 Sample 159: True MOS = 2.00, Predicted = 1.92\n",
            "🎥 Sample 160: True MOS = 3.52, Predicted = 2.69\n",
            "🎥 Sample 161: True MOS = 2.16, Predicted = 2.76\n",
            "🎥 Sample 162: True MOS = 2.50, Predicted = 2.22\n",
            "🎥 Sample 163: True MOS = 2.26, Predicted = 3.32\n",
            "🎥 Sample 164: True MOS = 3.56, Predicted = 3.09\n",
            "🎥 Sample 165: True MOS = 3.54, Predicted = 3.45\n",
            "🎥 Sample 166: True MOS = 2.76, Predicted = 2.41\n",
            "🎥 Sample 167: True MOS = 3.86, Predicted = 3.41\n",
            "🎥 Sample 168: True MOS = 2.60, Predicted = 2.43\n",
            "🎥 Sample 169: True MOS = 2.74, Predicted = 2.86\n",
            "🎥 Sample 170: True MOS = 4.04, Predicted = 3.42\n",
            "🎥 Sample 171: True MOS = 2.86, Predicted = 3.31\n",
            "🎥 Sample 172: True MOS = 2.44, Predicted = 2.35\n",
            "🎥 Sample 173: True MOS = 3.50, Predicted = 3.86\n",
            "🎥 Sample 174: True MOS = 3.52, Predicted = 3.34\n",
            "🎥 Sample 175: True MOS = 3.68, Predicted = 3.99\n",
            "🎥 Sample 176: True MOS = 3.16, Predicted = 3.52\n",
            "🎥 Sample 177: True MOS = 3.70, Predicted = 3.96\n",
            "🎥 Sample 178: True MOS = 1.91, Predicted = 3.19\n",
            "🎥 Sample 179: True MOS = 3.88, Predicted = 3.90\n",
            "🎥 Sample 180: True MOS = 2.82, Predicted = 3.18\n",
            "🎥 Sample 181: True MOS = 2.92, Predicted = 2.85\n",
            "🎥 Sample 182: True MOS = 2.72, Predicted = 3.41\n",
            "🎥 Sample 183: True MOS = 3.66, Predicted = 2.94\n",
            "🎥 Sample 184: True MOS = 2.24, Predicted = 2.49\n",
            "🎥 Sample 185: True MOS = 3.52, Predicted = 3.22\n",
            "🎥 Sample 186: True MOS = 2.32, Predicted = 2.69\n",
            "🎥 Sample 187: True MOS = 3.26, Predicted = 3.52\n",
            "🎥 Sample 188: True MOS = 2.70, Predicted = 3.10\n",
            "🎥 Sample 189: True MOS = 3.34, Predicted = 2.96\n",
            "🎥 Sample 190: True MOS = 3.24, Predicted = 3.57\n",
            "🎥 Sample 191: True MOS = 2.72, Predicted = 3.07\n",
            "🎥 Sample 192: True MOS = 2.98, Predicted = 3.76\n",
            "🎥 Sample 193: True MOS = 4.24, Predicted = 3.93\n",
            "🎥 Sample 194: True MOS = 2.68, Predicted = 2.14\n",
            "🎥 Sample 195: True MOS = 3.30, Predicted = 3.06\n",
            "🎥 Sample 196: True MOS = 3.68, Predicted = 3.47\n",
            "🎥 Sample 197: True MOS = 3.94, Predicted = 3.56\n",
            "🎥 Sample 198: True MOS = 2.54, Predicted = 2.18\n",
            "🎥 Sample 199: True MOS = 2.32, Predicted = 2.27\n",
            "🎥 Sample 200: True MOS = 3.56, Predicted = 3.24\n",
            "🎥 Sample 201: True MOS = 2.76, Predicted = 3.36\n",
            "🎥 Sample 202: True MOS = 2.54, Predicted = 2.16\n",
            "🎥 Sample 203: True MOS = 3.04, Predicted = 2.68\n",
            "🎥 Sample 204: True MOS = 2.42, Predicted = 3.10\n",
            "🎥 Sample 205: True MOS = 2.60, Predicted = 2.15\n",
            "🎥 Sample 206: True MOS = 3.64, Predicted = 3.79\n",
            "🎥 Sample 207: True MOS = 2.80, Predicted = 2.80\n",
            "🎥 Sample 208: True MOS = 2.94, Predicted = 3.61\n",
            "🎥 Sample 209: True MOS = 2.94, Predicted = 2.71\n",
            "🎥 Sample 210: True MOS = 2.02, Predicted = 2.06\n",
            "🎥 Sample 211: True MOS = 1.52, Predicted = 1.86\n",
            "🎥 Sample 212: True MOS = 2.80, Predicted = 2.65\n",
            "🎥 Sample 213: True MOS = 3.36, Predicted = 3.47\n",
            "🎥 Sample 214: True MOS = 2.56, Predicted = 1.85\n",
            "🎥 Sample 215: True MOS = 2.48, Predicted = 3.53\n",
            "🎥 Sample 216: True MOS = 3.58, Predicted = 3.45\n",
            "🎥 Sample 217: True MOS = 3.08, Predicted = 3.58\n",
            "🎥 Sample 218: True MOS = 3.60, Predicted = 3.62\n",
            "🎥 Sample 219: True MOS = 3.00, Predicted = 3.43\n",
            "🎥 Sample 220: True MOS = 3.16, Predicted = 3.31\n",
            "🎥 Sample 221: True MOS = 1.86, Predicted = 1.51\n",
            "🎥 Sample 222: True MOS = 2.40, Predicted = 1.67\n",
            "🎥 Sample 223: True MOS = 2.30, Predicted = 2.17\n",
            "🎥 Sample 224: True MOS = 2.36, Predicted = 2.08\n",
            "🎥 Sample 225: True MOS = 3.54, Predicted = 3.17\n",
            "🎥 Sample 226: True MOS = 3.22, Predicted = 3.50\n",
            "🎥 Sample 227: True MOS = 2.86, Predicted = 3.09\n",
            "🎥 Sample 228: True MOS = 3.90, Predicted = 3.19\n",
            "🎥 Sample 229: True MOS = 3.62, Predicted = 3.07\n",
            "🎥 Sample 230: True MOS = 3.08, Predicted = 3.41\n",
            "🎥 Sample 231: True MOS = 3.48, Predicted = 2.77\n",
            "🎥 Sample 232: True MOS = 3.80, Predicted = 3.75\n",
            "🎥 Sample 233: True MOS = 2.30, Predicted = 3.08\n",
            "🎥 Sample 234: True MOS = 3.06, Predicted = 2.68\n",
            "🎥 Sample 235: True MOS = 2.40, Predicted = 2.06\n",
            "🎥 Sample 236: True MOS = 3.40, Predicted = 3.25\n",
            "🎥 Sample 237: True MOS = 2.64, Predicted = 2.94\n",
            "🎥 Sample 238: True MOS = 3.18, Predicted = 2.88\n",
            "🎥 Sample 239: True MOS = 1.46, Predicted = 1.80\n",
            "🎥 Sample 240: True MOS = 2.62, Predicted = 1.65\n"
          ]
        },
        {
          "output_type": "stream",
          "name": "stderr",
          "text": [
            "\n"
          ]
        }
      ]
    },
    {
      "cell_type": "code",
      "source": [
        "from sklearn.metrics import mean_squared_error, mean_absolute_error, r2_score\n",
        "\n",
        "def print_metrics(true, pred):\n",
        "    pred = np.clip(pred, 0, 5)  # Ensure predictions stay in [0, 5]\n",
        "    print(f\"🔎 MSE: {mean_squared_error(true, pred):.4f}\")\n",
        "    print(f\"🔎 MAE: {mean_absolute_error(true, pred):.4f}\")\n",
        "    print(f\"🔎 R² Score: {r2_score(true, pred):.4f}\")\n",
        "\n",
        "# Evaluate metrics\n",
        "print_metrics(trues, preds)\n"
      ],
      "metadata": {
        "id": "ewxWk72BoXGV",
        "colab": {
          "base_uri": "https://localhost:8080/"
        },
        "outputId": "d82a657c-633d-428d-d71f-81464fb2dc18"
      },
      "id": "ewxWk72BoXGV",
      "execution_count": null,
      "outputs": [
        {
          "output_type": "stream",
          "name": "stdout",
          "text": [
            "🔎 MSE: 0.2295\n",
            "🔎 MAE: 0.3810\n",
            "🔎 R² Score: 0.3981\n"
          ]
        }
      ]
    },
    {
      "cell_type": "code",
      "source": [
        "import matplotlib.pyplot as plt\n",
        "\n",
        "plt.figure(figsize=(10, 5))\n",
        "plt.scatter(trues, preds, alpha=0.6, color='royalblue')\n",
        "plt.plot([0, 5], [0, 5], 'r--')  # Line of perfect prediction\n",
        "plt.xlabel(\"Ground Truth MOS\")\n",
        "plt.ylabel(\"Predicted Score\")\n",
        "plt.title(\"Video Quality Prediction\")\n",
        "plt.grid(True)\n",
        "plt.show()\n"
      ],
      "metadata": {
        "id": "j64T99rjkVIY",
        "colab": {
          "base_uri": "https://localhost:8080/",
          "height": 487
        },
        "outputId": "c09cd3d0-5991-48ab-dba7-eb912c598d7c"
      },
      "id": "j64T99rjkVIY",
      "execution_count": null,
      "outputs": [
        {
          "output_type": "display_data",
          "data": {
            "text/plain": [
              "<Figure size 1000x500 with 1 Axes>"
            ],
            "image/png": "[encoded data removed]"
          },
          "metadata": {}
        }
      ]
    },
    {
      "cell_type": "code",
      "source": [],
      "metadata": {
        "id": "04X7G47hISAm"
      },
      "id": "04X7G47hISAm",
      "execution_count": null,
      "outputs": []
    },
    {
      "cell_type": "code",
      "source": [
        "from scipy.stats import pearsonr, spearmanr\n",
        "from sklearn.metrics import mean_squared_error\n",
        "import numpy as np\n",
        "\n",
        "# Clamp predictions to valid range\n",
        "preds_clamped = np.clip(preds, 0, 5)\n",
        "\n",
        "# PLCC\n",
        "plcc, _ = pearsonr(trues, preds_clamped)\n",
        "\n",
        "# SRCC\n",
        "srcc, _ = spearmanr(trues, preds_clamped)\n",
        "\n",
        "# RMSE\n",
        "rmse = np.sqrt(mean_squared_error(trues, preds_clamped))\n",
        "\n",
        "# 📊 Display results\n",
        "print(f\"\\n📈 PLCC:  {plcc:.4f}\")\n",
        "print(f\"📊 SRCC:  {srcc:.4f}\")\n",
        "print(f\"🔍 RMSE:  {rmse:.4f}\")\n"
      ],
      "metadata": {
        "id": "-LW4PnGLImOq",
        "colab": {
          "base_uri": "https://localhost:8080/"
        },
        "outputId": "ec182be1-a6c3-487d-a4d1-744110f9b127"
      },
      "id": "-LW4PnGLImOq",
      "execution_count": null,
      "outputs": [
        {
          "output_type": "stream",
          "name": "stdout",
          "text": [
            "\n",
            "📈 PLCC:  0.6831\n",
            "📊 SRCC:  0.6502\n",
            "🔍 RMSE:  0.4790\n"
          ]
        }
      ]
    }
  ],
  "metadata": {
    "kernelspec": {
      "display_name": "Python 3",
      "name": "python3"
    },
    "language_info": {
      "codemirror_mode": {
        "name": "ipython",
        "version": 3
      },
      "file_extension": ".py",
      "mimetype": "text/x-python",
      "name": "python",
      "nbconvert_exporter": "python",
      "pygments_lexer": "ipython3",
      "version": "3.10.16"
    },
    "colab": {
      "provenance": [],
      "gpuType": "T4",
      "include_colab_link": true
    },
    "accelerator": "GPU"
  },
  "nbformat": 4,
  "nbformat_minor": 5
}